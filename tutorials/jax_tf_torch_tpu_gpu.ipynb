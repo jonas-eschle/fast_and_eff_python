{
 "cells": [
  {
   "cell_type": "markdown",
   "id": "dbf8c005",
   "metadata": {
    "id": "dbf8c005"
   },
   "source": [
    "The following additional libraries are needed to run this\n",
    "notebook. Note that running on Colab is experimental, please report a Github\n",
    "issue if you have any problem."
   ]
  },
  {
   "cell_type": "markdown",
   "id": "eaa3bd00",
   "metadata": {
    "editable": true,
    "id": "eaa3bd00",
    "origin_pos": 1,
    "slideshow": {
     "slide_type": ""
    },
    "tags": []
   },
   "source": [
    "# GPUs and TPUs\n",
    ":label:`sec_use_gpu`\n",
    "\n",
    "In :numref:`tab_intro_decade`, we illustrated the rapid growth\n",
    "of computation over the past two decades.\n",
    "In a nutshell, GPU performance has increased\n",
    "by a factor of 1000 every decade since 2000.\n",
    "This offers great opportunities but it also suggests\n",
    "that there was significant demand for such performance.\n",
    "\n",
    "\n",
    "In this section, we begin to discuss how to harness\n",
    "this computational performance for your research.\n",
    "First by using a single GPU and at a later point,\n",
    "how to use multiple GPUs and multiple servers (with multiple GPUs).\n",
    "\n",
    "Specifically, we will discuss how\n",
    "to use a single NVIDIA GPU for calculations.\n",
    "First, make sure you have at least one NVIDIA GPU installed.\n",
    "Then, download the [NVIDIA driver and CUDA](https://developer.nvidia.com/cuda-downloads)\n",
    "and follow the prompts to set the appropriate path.\n",
    "Once these preparations are complete,\n",
    "the `nvidia-smi` command can be used\n",
    "to (**view the graphics card information**).\n"
   ]
  },
  {
   "cell_type": "markdown",
   "id": "4d3923dd",
   "metadata": {
    "id": "4d3923dd",
    "origin_pos": 4
   },
   "source": [
    "To run the programs in this section,\n",
    "you need at least two GPUs.\n",
    "Note that this might be extravagant for most desktop computers\n",
    "but it is easily available in the cloud, e.g.,\n",
    "by using the AWS EC2 multi-GPU instances.\n",
    "Almost all other sections do *not* require multiple GPUs, but here we simply wish to illustrate data flow between different devices.\n"
   ]
  },
  {
   "cell_type": "code",
   "execution_count": 1,
   "id": "77df419c",
   "metadata": {
    "id": "77df419c",
    "origin_pos": 8,
    "tab": [
     "jax"
    ]
   },
   "outputs": [],
   "source": [
    "import jax\n",
    "import jax.numpy as jnp"
   ]
  },
  {
   "cell_type": "markdown",
   "id": "2d31e075",
   "metadata": {
    "id": "2d31e075",
    "origin_pos": 9
   },
   "source": [
    "## [**Computing Devices**]\n",
    "\n",
    "We can specify devices, such as CPUs and GPUs,\n",
    "for storage and calculation.\n",
    "By default, tensors are created in the main memory\n",
    "and then the CPU is used for calculations.\n"
   ]
  },
  {
   "cell_type": "code",
   "execution_count": 2,
   "id": "c2b86c09",
   "metadata": {
    "id": "c2b86c09",
    "origin_pos": 13,
    "tab": [
     "jax"
    ]
   },
   "outputs": [],
   "source": [
    "def cpu():\n",
    "    \"\"\"Get the CPU device.\"\"\"\n",
    "    return jax.devices('cpu')[0]\n",
    "\n",
    "def gpu(i=0):\n",
    "    \"\"\"Get a GPU device.\"\"\"\n",
    "    return jax.devices('gpu')[i]\n",
    "\n",
    "def tpu(i=0):\n",
    "    \"\"\"Get a TPU device.\"\"\"\n",
    "    return jax.devices('tpu')[i]\n",
    "\n",
    "# cpu(), gpu(), gpu(1)"
   ]
  },
  {
   "cell_type": "markdown",
   "id": "2090254b",
   "metadata": {
    "id": "2090254b",
    "origin_pos": 14
   },
   "source": [
    "We can (**query the number of available GPUs.**)\n"
   ]
  },
  {
   "cell_type": "code",
   "execution_count": 3,
   "id": "657c55ac",
   "metadata": {
    "colab": {
     "base_uri": "https://localhost:8080/"
    },
    "id": "657c55ac",
    "origin_pos": 16,
    "outputId": "bf6d5201-76d7-4589-c156-1b7cc0ef8754",
    "tab": [
     "jax"
    ]
   },
   "outputs": [
    {
     "name": "stderr",
     "output_type": "stream",
     "text": [
      "An NVIDIA GPU may be present on this machine, but a CUDA-enabled jaxlib is not installed. Falling back to cpu.\n"
     ]
    },
    {
     "data": {
      "text/plain": [
       "0"
      ]
     },
     "execution_count": 3,
     "metadata": {},
     "output_type": "execute_result"
    }
   ],
   "source": [
    "def num_gpus():\n",
    "    \"\"\"Get the number of available GPUs.\"\"\"\n",
    "    try:\n",
    "        return jax.device_count('gpu')\n",
    "    except:\n",
    "        return 0  # No GPU backend found\n",
    "\n",
    "num_gpus()"
   ]
  },
  {
   "cell_type": "code",
   "execution_count": 4,
   "id": "QeG_bvfO9th7",
   "metadata": {
    "colab": {
     "base_uri": "https://localhost:8080/"
    },
    "id": "QeG_bvfO9th7",
    "outputId": "8cd518ee-d60a-4945-bf8e-4e81b22ca84f"
   },
   "outputs": [
    {
     "data": {
      "text/plain": [
       "0"
      ]
     },
     "execution_count": 4,
     "metadata": {},
     "output_type": "execute_result"
    }
   ],
   "source": [
    "def num_tpu():\n",
    "    \"\"\"Get the number of available GPUs.\"\"\"\n",
    "    try:\n",
    "        return jax.device_count('tpu')\n",
    "    except:\n",
    "        return 0  # No GPU backend found\n",
    "num_tpu()"
   ]
  },
  {
   "cell_type": "markdown",
   "id": "2a85ad8f",
   "metadata": {
    "id": "2a85ad8f",
    "origin_pos": 17
   },
   "source": [
    "Now we [**define two convenient functions that allow us\n",
    "to run code even if the requested GPUs do not exist.**]\n"
   ]
  },
  {
   "cell_type": "code",
   "execution_count": 5,
   "id": "c6a4e02b",
   "metadata": {
    "colab": {
     "base_uri": "https://localhost:8080/"
    },
    "id": "c6a4e02b",
    "origin_pos": 18,
    "outputId": "670a4489-bb40-4be2-d288-821dcb489aa7",
    "tab": [
     "jax"
    ]
   },
   "outputs": [
    {
     "data": {
      "text/plain": [
       "(CpuDevice(id=0), CpuDevice(id=0), [])"
      ]
     },
     "execution_count": 5,
     "metadata": {},
     "output_type": "execute_result"
    }
   ],
   "source": [
    "def try_tpu_gpu(i=0):\n",
    "    \"\"\"Return gpu(i) if exists, otherwise return cpu().\"\"\"\n",
    "    if num_tpu() >= i + 1:\n",
    "        return tpu(i)\n",
    "    elif num_gpus() >= i + 1:\n",
    "        return gpu(i)\n",
    "    return cpu()\n",
    "\n",
    "def try_all_gpus():\n",
    "    \"\"\"Return all available GPUs, or [cpu(),] if no GPU exists.\"\"\"\n",
    "    return [gpu(i) for i in range(num_gpus())]\n",
    "\n",
    "try_tpu_gpu(), try_tpu_gpu(10), try_all_gpus()"
   ]
  },
  {
   "cell_type": "markdown",
   "id": "ad62dca2",
   "metadata": {
    "id": "ad62dca2",
    "origin_pos": 19
   },
   "source": [
    "## Tensors and GPUs\n"
   ]
  },
  {
   "cell_type": "markdown",
   "id": "debb5a24",
   "metadata": {
    "id": "debb5a24",
    "origin_pos": 22,
    "tab": [
     "jax"
    ]
   },
   "source": [
    "By default, tensors are created on the GPU/TPU if they are available,\n",
    "else CPU is used if not available.\n",
    "We can [**query the device where the tensor is located.**]\n"
   ]
  },
  {
   "cell_type": "code",
   "execution_count": 6,
   "id": "c8e19f73",
   "metadata": {
    "colab": {
     "base_uri": "https://localhost:8080/"
    },
    "id": "c8e19f73",
    "origin_pos": 26,
    "outputId": "a8947e31-cb15-4cb1-8ed7-42d19d3d8918",
    "tab": [
     "jax"
    ]
   },
   "outputs": [
    {
     "data": {
      "text/plain": [
       "{CpuDevice(id=0)}"
      ]
     },
     "execution_count": 6,
     "metadata": {},
     "output_type": "execute_result"
    }
   ],
   "source": [
    "x = jnp.array([1, 2, 3])\n",
    "x.devices()"
   ]
  },
  {
   "cell_type": "markdown",
   "id": "a28d9e23",
   "metadata": {
    "id": "a28d9e23",
    "origin_pos": 27
   },
   "source": [
    "It is important to note that whenever we want\n",
    "to operate on multiple terms,\n",
    "they need to be on the same device.\n",
    "For instance, if we sum two tensors,\n",
    "we need to make sure that both arguments\n",
    "live on the same device---otherwise the framework\n",
    "would not know where to store the result\n",
    "or even how to decide where to perform the computation.\n",
    "\n",
    "### Storage on the GPU\n",
    "\n",
    "There are several ways to [**store a tensor on the GPU.**]\n",
    "For example, we can specify a storage device when creating a tensor.\n",
    "Next, we create the tensor variable `X` on the first `gpu`.\n",
    "The tensor created on a GPU only consumes the memory of this GPU.\n",
    "We can use the `nvidia-smi` command to view GPU memory usage.\n",
    "In general, we need to make sure that we do not create data that exceeds the GPU memory limit.\n",
    "\n",
    "The syntax is\n",
    "```\n",
    "x_ondevice = jax.device_put(x, 'device')\n",
    "```\n"
   ]
  },
  {
   "cell_type": "code",
   "execution_count": 7,
   "id": "f911de18",
   "metadata": {
    "colab": {
     "base_uri": "https://localhost:8080/"
    },
    "id": "f911de18",
    "origin_pos": 31,
    "outputId": "5ea22d4e-3b61-4009-9935-8a49e5df7a9f",
    "tab": [
     "jax"
    ]
   },
   "outputs": [
    {
     "data": {
      "text/plain": [
       "(Array([[1., 1., 1.],\n",
       "        [1., 1., 1.]], dtype=float32),\n",
       " {CpuDevice(id=0)})"
      ]
     },
     "execution_count": 7,
     "metadata": {},
     "output_type": "execute_result"
    }
   ],
   "source": [
    "# By default JAX puts arrays to GPUs or TPUs if available\n",
    "X = jax.device_put(jnp.ones((2, 3)), try_tpu_gpu())\n",
    "X, X.devices()"
   ]
  },
  {
   "cell_type": "markdown",
   "id": "d20c7b95",
   "metadata": {
    "id": "d20c7b95",
    "origin_pos": 32
   },
   "source": [
    "Assuming that you have at least two GPUs, the following code will (**create a random tensor, `Y`, on the second GPU.**)\n"
   ]
  },
  {
   "cell_type": "code",
   "execution_count": 8,
   "id": "7d206927",
   "metadata": {
    "colab": {
     "base_uri": "https://localhost:8080/"
    },
    "id": "7d206927",
    "origin_pos": 36,
    "outputId": "0edc5d34-4653-41ab-a127-85356c54b264",
    "tab": [
     "jax"
    ]
   },
   "outputs": [
    {
     "data": {
      "text/plain": [
       "(Array([[0.57450044, 0.09968603, 0.7419659 ],\n",
       "        [0.8941783 , 0.59656656, 0.45325184]], dtype=float32),\n",
       " {CpuDevice(id=0)})"
      ]
     },
     "execution_count": 8,
     "metadata": {},
     "output_type": "execute_result"
    }
   ],
   "source": [
    "Y = jax.device_put(jax.random.uniform(jax.random.PRNGKey(0), (2, 3)),\n",
    "                   try_tpu_gpu(1))\n",
    "Y, Y.devices()"
   ]
  },
  {
   "cell_type": "markdown",
   "id": "bb9f14c9",
   "metadata": {
    "id": "bb9f14c9",
    "origin_pos": 37
   },
   "source": [
    "### Copying\n",
    "\n",
    "[**If we want to compute `X + Y`,\n",
    "we need to decide where to perform this operation.**]\n",
    "For instance, as shown in :numref:`fig_copyto`,\n",
    "we can transfer `X` to the second GPU\n",
    "and perform the operation there.\n",
    "*Do not* simply add `X` and `Y`,\n",
    "since this will result in an exception.\n",
    "The runtime engine would not know what to do:\n",
    "it cannot find data on the same device and it fails.\n",
    "Since `Y` lives on the second GPU,\n",
    "we need to move `X` there before we can add the two.\n",
    "\n",
    "![Copy data to perform an operation on the same device.](http://d2l.ai/_images/copyto.svg)\n",
    ":label:`fig_copyto`\n"
   ]
  },
  {
   "cell_type": "code",
   "execution_count": 9,
   "id": "0rHFiWiRA1tP",
   "metadata": {
    "colab": {
     "base_uri": "https://localhost:8080/",
     "height": 339
    },
    "editable": true,
    "id": "0rHFiWiRA1tP",
    "outputId": "e19219b6-7ce5-4286-9180-7e329d8e6a91",
    "slideshow": {
     "slide_type": ""
    },
    "tags": [
     "raises-exception"
    ]
   },
   "outputs": [
    {
     "data": {
      "text/plain": [
       "Array([[1.5745004, 1.099686 , 1.7419659],\n",
       "       [1.8941783, 1.5965666, 1.4532518]], dtype=float32)"
      ]
     },
     "execution_count": 9,
     "metadata": {},
     "output_type": "execute_result"
    }
   ],
   "source": [
    "X + Y"
   ]
  },
  {
   "cell_type": "markdown",
   "id": "8BmUl56EBCqp",
   "metadata": {
    "id": "8BmUl56EBCqp"
   },
   "source": [
    "To put it on a device, we will need to move it, which is again nothing stateful but functional: we get a moved tensor."
   ]
  },
  {
   "cell_type": "code",
   "execution_count": 10,
   "id": "72cffd2e",
   "metadata": {
    "colab": {
     "base_uri": "https://localhost:8080/"
    },
    "id": "72cffd2e",
    "origin_pos": 41,
    "outputId": "55904218-0620-4947-da98-e1e07440548a",
    "tab": [
     "jax"
    ]
   },
   "outputs": [
    {
     "name": "stdout",
     "output_type": "stream",
     "text": [
      "[[1. 1. 1.]\n",
      " [1. 1. 1.]] {CpuDevice(id=0)}\n",
      "[[1. 1. 1.]\n",
      " [1. 1. 1.]] {CpuDevice(id=0)}\n"
     ]
    }
   ],
   "source": [
    "Z = jax.device_put(X, try_tpu_gpu(1))\n",
    "print(X, X.devices())\n",
    "print(Z, Z.devices())"
   ]
  },
  {
   "cell_type": "markdown",
   "id": "0e868fa0",
   "metadata": {
    "id": "0e868fa0",
    "origin_pos": 42
   },
   "source": [
    "Now that [**the data (both `Z` and `Y`) are on the same GPU), we can add them up.**]\n"
   ]
  },
  {
   "cell_type": "code",
   "execution_count": 11,
   "id": "54adc8d7",
   "metadata": {
    "colab": {
     "base_uri": "https://localhost:8080/"
    },
    "id": "54adc8d7",
    "origin_pos": 43,
    "outputId": "e7c30697-a177-42e1-8338-e6f40847748e",
    "tab": [
     "jax"
    ]
   },
   "outputs": [
    {
     "data": {
      "text/plain": [
       "Array([[1.5745004, 1.099686 , 1.7419659],\n",
       "       [1.8941783, 1.5965666, 1.4532518]], dtype=float32)"
      ]
     },
     "execution_count": 11,
     "metadata": {},
     "output_type": "execute_result"
    }
   ],
   "source": [
    "Y + Z"
   ]
  },
  {
   "cell_type": "markdown",
   "id": "bfd05286",
   "metadata": {
    "id": "bfd05286",
    "origin_pos": 47,
    "tab": [
     "jax"
    ]
   },
   "source": [
    "Imagine that your variable `Z` already lives on your second GPU.\n",
    "What happens if we still call `Z2 = Z` under the same device scope?\n",
    "It will return `Z` instead of making a copy and allocating new memory.\n"
   ]
  },
  {
   "cell_type": "code",
   "execution_count": 12,
   "id": "d48982e3",
   "metadata": {
    "colab": {
     "base_uri": "https://localhost:8080/"
    },
    "id": "d48982e3",
    "origin_pos": 51,
    "outputId": "c94dc7bc-db1e-4f46-bffe-ef376e6c4896",
    "tab": [
     "jax"
    ]
   },
   "outputs": [
    {
     "data": {
      "text/plain": [
       "False"
      ]
     },
     "execution_count": 12,
     "metadata": {},
     "output_type": "execute_result"
    }
   ],
   "source": [
    "Z2 = jax.device_put(Z, try_tpu_gpu(1))\n",
    "Z2 is Z"
   ]
  },
  {
   "cell_type": "markdown",
   "id": "1f34545b",
   "metadata": {
    "id": "1f34545b",
    "origin_pos": 52
   },
   "source": [
    "### The bottleneck\n",
    "\n",
    "Transferring variables between devices is slow: much slower than computation.\n",
    "So we want you to be 100% certain\n",
    "that you want to do something slow before we let you do it.\n",
    "If the deep learning framework just did the copy automatically\n",
    "without crashing then you might not realize\n",
    "that you had written some slow code.\n",
    "\n",
    "Transferring data is not only slow, it also makes parallelization a lot more difficult,\n",
    "since we have to wait for data to be sent (or rather to be received)\n",
    "before we can proceed with more operations.\n",
    "This is why copy operations should be taken with great care.\n",
    "As a rule of thumb, many small operations\n",
    "are much worse than one big operation.\n",
    "Moreover, several operations at a time\n",
    "are much better than many single operations interspersed in the code\n",
    "unless you know what you are doing.\n",
    "This is the case since such operations can block if one device\n",
    "has to wait for the other before it can do something else.\n",
    "It is a bit like ordering your coffee in a queue\n",
    "rather than pre-ordering it by phone\n",
    "and finding out that it is ready when you are.\n",
    "\n",
    "Last, when we print tensors or convert tensors to the NumPy format,\n",
    "if the data is not in the main memory,\n",
    "the framework will copy it to the main memory first,\n",
    "resulting in additional transmission overhead.\n",
    "Even worse, it is now subject to the dreaded global interpreter lock\n",
    "that makes everything wait for Python to complete.\n"
   ]
  },
  {
   "cell_type": "markdown",
   "id": "t3NmZMQTOyAX",
   "metadata": {
    "id": "t3NmZMQTOyAX"
   },
   "source": [
    "## Lazy execution\n",
    "\n",
    "There is another trick that libraries may use to speed up the comutation: while the actual computation is performed, the Python code continues _until the value of the computation is needed_ (barrier).\n",
    "\n",
    "At this point, the Python code stopps until the needed computation is ready.\n",
    "Usually, we don't notice this (great! That's how it should be!), except if we're profiling code: when running something like `y = jax.something(x)`, then y is _technically_ not yet computed but a _lazy object_, a placeholder that says \"I am holding a value, I promise\".\n",
    "If we use Python that _needs_ this value (i.e. by calling `np.array(y)`, it will wait until the computation is finished.\n",
    "\n",
    "Therefore, to profile code, we're not interested in the time it takes to return a placeholder (which can be instant) but instead, how long it takes until the computation is performed.\n",
    "\n",
    "`block_until_ready()` forces the Python code to wait until the computation is executed (only usecase is benchmarking, should not be needed otherwise).\n",
    "\n",
    "_note that we cannot enforce the computation not to be executed, but that jax has the freedom to delay it_"
   ]
  },
  {
   "cell_type": "code",
   "execution_count": 13,
   "id": "mmj8Ijx8QqZW",
   "metadata": {
    "id": "mmj8Ijx8QqZW"
   },
   "outputs": [],
   "source": [
    "import random"
   ]
  },
  {
   "cell_type": "code",
   "execution_count": 14,
   "id": "UuA4ACa5P7ku",
   "metadata": {
    "colab": {
     "base_uri": "https://localhost:8080/"
    },
    "id": "UuA4ACa5P7ku",
    "outputId": "bbc30c89-a3ba-4425-e4c2-9fadc4588f2a"
   },
   "outputs": [
    {
     "name": "stdout",
     "output_type": "stream",
     "text": [
      "186 ms ± 33.1 ms per loop (mean ± std. dev. of 3 runs, 1 loop each)\n"
     ]
    }
   ],
   "source": [
    "%%timeit -n1 -r3\n",
    "with jax.default_device(cpu()):\n",
    "    rand = random.randint(0, 1e4)\n",
    "    x = jnp.linspace(0, 100, num=10_000_000 + rand)\n",
    "    y = x ** 0.5 - jnp.log(jnp.abs(x));\n",
    "    # y.block_until_ready()"
   ]
  },
  {
   "cell_type": "code",
   "execution_count": 15,
   "id": "9OV_th6LEA3w",
   "metadata": {
    "id": "9OV_th6LEA3w"
   },
   "outputs": [],
   "source": [
    "n = 100_000_000\n",
    "# n = 100"
   ]
  },
  {
   "cell_type": "code",
   "execution_count": 16,
   "id": "Z6HyAx0xCcqY",
   "metadata": {
    "colab": {
     "base_uri": "https://localhost:8080/"
    },
    "id": "Z6HyAx0xCcqY",
    "outputId": "d59b6522-1263-4131-eaa3-1bc3368b5455"
   },
   "outputs": [
    {
     "name": "stdout",
     "output_type": "stream",
     "text": [
      "1.09 s ± 84.1 ms per loop (mean ± std. dev. of 7 runs, 5 loops each)\n"
     ]
    }
   ],
   "source": [
    "%%timeit -n5\n",
    "x = jax.random.uniform(jax.random.PRNGKey(random.randint(0, 1e12)), (n,))  # on GPU/TPU\n",
    "xcpu = jax.device_put(x, cpu())  # move to CPU\n",
    "ycpu = xcpu ** 2 - 0.5  # calculate on CPU\n",
    "yacc = jax.device_put(ycpu, try_tpu_gpu())  # move to GPU/TPU\n",
    "zacc = yacc ** 3 - 0.2  # calculate on GPU/TPU\n",
    "zacc.block_until_ready()"
   ]
  },
  {
   "cell_type": "code",
   "execution_count": 17,
   "id": "Sxj0TNaSC-23",
   "metadata": {
    "colab": {
     "base_uri": "https://localhost:8080/"
    },
    "id": "Sxj0TNaSC-23",
    "outputId": "d20e3e66-62be-49db-cdad-146283b224d2"
   },
   "outputs": [
    {
     "name": "stdout",
     "output_type": "stream",
     "text": [
      "1.2 s ± 20.1 ms per loop (mean ± std. dev. of 7 runs, 5 loops each)\n"
     ]
    }
   ],
   "source": [
    "%%timeit -n5\n",
    "with jax.default_device(cpu()):\n",
    "    xcpu = jax.random.uniform(jax.random.PRNGKey(random.randint(0, 1e12)), (n,))  # on CPU\n",
    "    ycpu = xcpu ** 2 - 0.5\n",
    "    zcpu = ycpu ** 3 - 0.2\n",
    "    zcpu.block_until_ready()"
   ]
  },
  {
   "cell_type": "code",
   "execution_count": 18,
   "id": "16Ftya7REZvM",
   "metadata": {
    "id": "16Ftya7REZvM"
   },
   "outputs": [
    {
     "name": "stdout",
     "output_type": "stream",
     "text": [
      "1.09 s ± 35.6 ms per loop (mean ± std. dev. of 7 runs, 5 loops each)\n"
     ]
    }
   ],
   "source": [
    "%%timeit -n5\n",
    "with jax.default_device(try_tpu_gpu()):\n",
    "    xacc = jax.random.uniform(jax.random.PRNGKey(random.randint(0, 1e12)), (n,))  # on CPU\n",
    "    yacc = xacc ** 2 - 0.5\n",
    "    zacc = yacc ** 3 - 0.2\n",
    "    zacc.block_until_ready()"
   ]
  },
  {
   "cell_type": "code",
   "execution_count": 19,
   "id": "MZ0eOYNIDvsf",
   "metadata": {
    "id": "MZ0eOYNIDvsf"
   },
   "outputs": [],
   "source": [
    "import tensorflow as tf\n",
    "import tensorflow.experimental.numpy as tnp\n",
    "import torch"
   ]
  },
  {
   "cell_type": "code",
   "execution_count": 20,
   "id": "fMSr66kVxOVd",
   "metadata": {
    "colab": {
     "base_uri": "https://localhost:8080/"
    },
    "id": "fMSr66kVxOVd",
    "outputId": "350e0608-8d20-4d61-b5e6-bcb448a005c6"
   },
   "outputs": [
    {
     "data": {
      "text/plain": [
       "[PhysicalDevice(name='/physical_device:CPU:0', device_type='CPU')]"
      ]
     },
     "execution_count": 20,
     "metadata": {},
     "output_type": "execute_result"
    }
   ],
   "source": [
    "tf.config.get_visible_devices()"
   ]
  },
  {
   "cell_type": "code",
   "execution_count": 21,
   "id": "blv-i7GXOc67",
   "metadata": {
    "colab": {
     "base_uri": "https://localhost:8080/",
     "height": 36
    },
    "id": "blv-i7GXOc67",
    "outputId": "f77aa770-9840-4ced-a740-97143d48b98b"
   },
   "outputs": [
    {
     "data": {
      "text/plain": [
       "'/job:localhost/replica:0/task:0/device:CPU:0'"
      ]
     },
     "execution_count": 21,
     "metadata": {},
     "output_type": "execute_result"
    }
   ],
   "source": [
    "\n",
    "with tf.device('cpu'):\n",
    "    x = tnp.linspace(0, 10, num=100)\n",
    "x.device"
   ]
  },
  {
   "cell_type": "code",
   "execution_count": 22,
   "id": "qKkGE6FMUdh6",
   "metadata": {
    "colab": {
     "base_uri": "https://localhost:8080/",
     "height": 263
    },
    "id": "qKkGE6FMUdh6",
    "outputId": "7c7c34e9-96f1-4d0b-9793-555d7f7ec136"
   },
   "outputs": [
    {
     "data": {
      "text/plain": [
       "1"
      ]
     },
     "execution_count": 22,
     "metadata": {},
     "output_type": "execute_result"
    }
   ],
   "source": [
    "torch.cuda.device_count()"
   ]
  },
  {
   "cell_type": "code",
   "execution_count": 23,
   "id": "HrUbSCf5Ulpd",
   "metadata": {
    "colab": {
     "base_uri": "https://localhost:8080/"
    },
    "id": "HrUbSCf5Ulpd",
    "outputId": "21f53b4c-f187-4792-eca4-0d839c863550"
   },
   "outputs": [
    {
     "data": {
      "text/plain": [
       "device(type='cpu')"
      ]
     },
     "execution_count": 23,
     "metadata": {},
     "output_type": "execute_result"
    }
   ],
   "source": [
    "x = torch.linspace(0., 10, 100).to('cpu')  # try to use the `num=100` -> fails. torch is not very pythonic sometimes...\n",
    "x.device"
   ]
  },
  {
   "cell_type": "code",
   "execution_count": null,
   "id": "tvFA2Zg6xa0D",
   "metadata": {
    "id": "tvFA2Zg6xa0D"
   },
   "outputs": [],
   "source": []
  }
 ],
 "metadata": {
  "accelerator": "TPU",
  "colab": {
   "gpuType": "V28",
   "provenance": []
  },
  "kernelspec": {
   "display_name": "Python 3 (ipykernel)",
   "language": "python",
   "name": "python3"
  },
  "language_info": {
   "codemirror_mode": {
    "name": "ipython",
    "version": 3
   },
   "file_extension": ".py",
   "mimetype": "text/x-python",
   "name": "python",
   "nbconvert_exporter": "python",
   "pygments_lexer": "ipython3",
   "version": "3.11.9"
  },
  "required_libs": []
 },
 "nbformat": 4,
 "nbformat_minor": 5
}

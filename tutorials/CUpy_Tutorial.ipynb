{
 "cells": [
  {
   "cell_type": "code",
   "execution_count": null,
   "metadata": {
    "colab": {
     "base_uri": "https://localhost:8080/"
    },
    "editable": true,
    "id": "3g9Mj6upWARq",
    "outputId": "7cc9e4ef-e6fd-4a91-9f98-c757f19f652f",
    "slideshow": {
     "slide_type": ""
    },
    "tags": []
   },
   "outputs": [],
   "source": [
    "!nvidia-smi"
   ]
  },
  {
   "cell_type": "code",
   "execution_count": null,
   "metadata": {
    "colab": {
     "base_uri": "https://localhost:8080/"
    },
    "id": "omVupag3XVqT",
    "outputId": "9588c232-332e-4589-c5fa-604f0bddd503"
   },
   "outputs": [],
   "source": [
    "!nvcc --version"
   ]
  },
  {
   "cell_type": "code",
   "execution_count": null,
   "metadata": {
    "id": "IqLDJkz2WgqV"
   },
   "outputs": [],
   "source": [
    "# %pip install cupy-cuda11x"
   ]
  },
  {
   "cell_type": "code",
   "execution_count": null,
   "metadata": {
    "editable": true,
    "id": "3ScLxvwnW1vX",
    "slideshow": {
     "slide_type": ""
    },
    "tags": []
   },
   "outputs": [],
   "source": [
    "import numpy as np\n",
    "import cupy as cp"
   ]
  },
  {
   "cell_type": "markdown",
   "metadata": {
    "editable": true,
    "slideshow": {
     "slide_type": ""
    },
    "tags": []
   },
   "source": [
    "## Drop-in replacement\n",
    "\n",
    "cupy is a drop-in replacement for numpy and can be used in it's place. Same APIs, it's just executed on the GPU.\n",
    "\n",
    "Why is this so straight-forward?"
   ]
  },
  {
   "cell_type": "code",
   "execution_count": null,
   "metadata": {
    "colab": {
     "base_uri": "https://localhost:8080/"
    },
    "id": "lhaT1Wh-W9R8",
    "outputId": "276ff594-08ae-48ab-9ebc-ad18a247429d"
   },
   "outputs": [],
   "source": [
    "import cupy as cp\n",
    "import numpy as np\n",
    "\n",
    "x = [3, 4, 5]\n",
    "\n",
    "x_np = np.array(x)\n",
    "x_cp = cp.array(x)\n",
    "\n",
    "l2_np = np.linalg.norm(x_np)\n",
    "l2_cp = cp.linalg.norm(x_cp)\n",
    "\n",
    "print(\"Numpy: \", l2_np)\n",
    "print(\"Cupy: \", l2_cp)"
   ]
  },
  {
   "cell_type": "code",
   "execution_count": null,
   "metadata": {
    "colab": {
     "base_uri": "https://localhost:8080/"
    },
    "id": "lYDod2w-iaoM",
    "outputId": "d574d3fd-f753-4a2d-bb6a-93d178c73e9a"
   },
   "outputs": [],
   "source": [
    "x_array = np.array([10, 22, 30])\n",
    "x_cp_array = cp.asarray(x_array)\n",
    "type(x_cp_array)"
   ]
  },
  {
   "cell_type": "code",
   "execution_count": null,
   "metadata": {
    "colab": {
     "base_uri": "https://localhost:8080/"
    },
    "id": "B0S1bDWPixcG",
    "outputId": "60fcbf5b-0867-4990-97bb-2c88140adc41"
   },
   "outputs": [],
   "source": [
    "x_np_array = x_cp_array.get()\n",
    "type(x_np_array)"
   ]
  },
  {
   "cell_type": "code",
   "execution_count": null,
   "metadata": {
    "id": "n3QEvU2SqcWM"
   },
   "outputs": [],
   "source": []
  },
  {
   "cell_type": "code",
   "execution_count": null,
   "metadata": {
    "colab": {
     "base_uri": "https://localhost:8080/"
    },
    "id": "8ZoLOy--X1yW",
    "outputId": "f892a07d-633c-465f-c988-9b827cb46585"
   },
   "outputs": [],
   "source": [
    "%%timeit -n5\n",
    "x_cpu = np.random.uniform(size=(1000, 100, 1000))\n",
    "np_result = np.sqrt(np.sum(x_cpu**2, axis=-1))"
   ]
  },
  {
   "cell_type": "code",
   "execution_count": null,
   "metadata": {
    "id": "_hgzngLnqaZY"
   },
   "outputs": [],
   "source": []
  },
  {
   "cell_type": "code",
   "execution_count": null,
   "metadata": {
    "colab": {
     "base_uri": "https://localhost:8080/"
    },
    "id": "SCzsiji1jpU-",
    "outputId": "9e450b87-ed46-43bb-a73a-924aa79e29a1"
   },
   "outputs": [],
   "source": [
    "%%timeit -n5\n",
    "x_gpu = cp.random.uniform(size=(1000, 100, 1000))\n",
    "cp_result = cp.sqrt(cp.sum(x_gpu**2, axis=-1))"
   ]
  }
 ],
 "metadata": {
  "accelerator": "GPU",
  "colab": {
   "gpuType": "T4",
   "provenance": []
  },
  "kernelspec": {
   "display_name": "Python 3 (ipykernel)",
   "language": "python",
   "name": "python3"
  },
  "language_info": {
   "codemirror_mode": {
    "name": "ipython",
    "version": 3
   },
   "file_extension": ".py",
   "mimetype": "text/x-python",
   "name": "python",
   "nbconvert_exporter": "python",
   "pygments_lexer": "ipython3",
   "version": "3.11.9"
  }
 },
 "nbformat": 4,
 "nbformat_minor": 4
}
